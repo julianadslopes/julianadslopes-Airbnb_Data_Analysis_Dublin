{
  "nbformat": 4,
  "nbformat_minor": 0,
  "metadata": {
    "colab": {
      "provenance": [],
      "collapsed_sections": [
        "0zxQHhIUDF_2",
        "6-B_qtEaYEd-",
        "yz1urSUGW9iE",
        "iHXvvHIxaoNc",
        "7b6RMWpuHKN-"
      ],
      "include_colab_link": true
    },
    "kernelspec": {
      "name": "python3",
      "display_name": "Python 3"
    }
  },
  "cells": [
    {
      "cell_type": "markdown",
      "metadata": {
        "id": "view-in-github",
        "colab_type": "text"
      },
      "source": [
        "<a href=\"https://colab.research.google.com/github/julianadslopes/julianadslopes-Airbnb_Data_Analysis_Dublin/blob/main/Analisando_os_Dados_do_Airbnb_Dublin.ipynb\" target=\"_parent\"><img src=\"https://colab.research.google.com/assets/colab-badge.svg\" alt=\"Open In Colab\"/></a>"
      ]
    },
    {
      "cell_type": "markdown",
      "metadata": {
        "id": "kLI0gJtzDGuQ"
      },
      "source": [
        "<img alt=\"Colaboratory logo\" width=\"15%\" src=\"https://raw.githubusercontent.com/carlosfab/escola-data-science/master/img/novo_logo_bg_claro.png\">\n",
        "\n",
        "#### **Data Science na Prática 3.0**\n",
        "*by [sigmoidal.ai](https://sigmoidal.ai)*\n",
        "\n",
        "---\n",
        "\n",
        "# Análise dos Dados do Airbnb - *Dublin*\n",
        "\n",
        "O [Airbnb](https://www.airbnb.com.br/) já é considerado como sendo a **maior empresa hoteleira da atualidade**. Ah, o detalhe é que ele **não possui nenhum hotel**!\n",
        "\n",
        "Conectando pessoas que querem viajar (e se hospedar) com anfitriões que querem alugar seus imóveis de maneira prática, o Airbnb fornece uma plataforma inovadora para tornar essa hospedagem alternativa.\n",
        "\n",
        "No final de 2018, a Startup fundada 10 anos atrás, já havia **hospedado mais de 300 milhões** de pessoas ao redor de todo o mundo, desafiando as redes hoteleiras tradicionais.\n",
        "\n",
        "Uma das iniciativas do Airbnb é disponibilizar dados do site, para algumas das principais cidades do mundo. Por meio do portal [Inside Airbnb](http://insideairbnb.com/get-the-data.html), é possível baixar uma grande quantidade de dados para desenvolver projetos e soluções de *Data Science*.\n",
        "\n",
        "<center><img alt=\"Analisando Airbnb\" width=\"10%\" src=\"https://www.area360.com.au/wp-content/uploads/2017/09/airbnb-logo.jpg\"></center>\n",
        "\n",
        "**Neste *notebook*, iremos analisar os dados referentes à cidade de Dublin, e ver quais insights podem ser extraídos a partir de dados brutos.**"
      ]
    },
    {
      "cell_type": "markdown",
      "metadata": {
        "id": "0zxQHhIUDF_2"
      },
      "source": [
        "## Obtenção dos Dados\n"
      ]
    },
    {
      "cell_type": "code",
      "metadata": {
        "id": "Vhp2wMPgJ6zX"
      },
      "source": [
        "# importar os pacotes necessarios\n",
        "import pandas as pd\n",
        "import matplotlib.pyplot as plt\n",
        "import seaborn as sns\n",
        "\n",
        "%matplotlib inline\n"
      ],
      "execution_count": 1,
      "outputs": []
    },
    {
      "cell_type": "code",
      "metadata": {
        "id": "tUmoAT8DLQ5T"
      },
      "source": [
        "# importar o arquivo listings.csv para um DataFrame\n",
        "df = pd.read_csv (\"http://data.insideairbnb.com/ireland/leinster/dublin/2022-09-11/visualisations/listings.csv\")"
      ],
      "execution_count": 2,
      "outputs": []
    },
    {
      "cell_type": "markdown",
      "metadata": {
        "id": "qb5By2nIMS6m"
      },
      "source": [
        "## Análise dos Dados\n"
      ]
    },
    {
      "cell_type": "markdown",
      "metadata": {
        "id": "RYgvuebKNg8-"
      },
      "source": [
        "**Dicionário das variáveis**\n",
        "\n",
        "* ***id***  - número gerado para identificar anúncio\n",
        "* ***name*** - nome do anúncio\n",
        "* ***host_id*** - numero identificação\n",
        "* ***host_name*** - nome do anfitrião\n",
        "* ***neighbourhood_group*** - coluna sem valor válido\n",
        "* ***neighbourhood*** - bairro\n",
        "* ***latitude*** - coordenada da latitude da propriedade\n",
        "* ***longitude*** - coordenada da longitude da propriedade\n",
        "* ***room_type*** - tipo da propriedade\n",
        "* ***price*** - preço do aluguel diário da propriedade\n",
        "* ***minimum_nights*** - quantidade mínima permitida de noites para reservar\n",
        "* ***number_of_reviews*** - número de avaliações do anúncio\n",
        "* ***last_review*** - data da última avaliação\n",
        "* ***reviews_per_month*** - quantidade de avaliações por mês\n",
        "* ***calculated_host_listings_count*** - quantidade de imóveis do mesmo anfitrião\n",
        "* ***availability_365*** - número de dias de disponibilidade dentre 365 dias\n",
        "* ***number_of_reviews_ltm*** - número de avaliações nos últimos 12 meses\n",
        "* ***license*** - coluna sem valor válido\n",
        "\n",
        "Antes de iniciar qualquer análise, vamos verificar a cara do nosso *dataset*, analisando as 5 primeiras entradas."
      ]
    },
    {
      "cell_type": "code",
      "metadata": {
        "id": "2iS_dae7YQtO",
        "colab": {
          "base_uri": "https://localhost:8080/",
          "height": 548
        },
        "outputId": "714025b8-0990-4316-cb23-39246033ed33"
      },
      "source": [
        "# mostrar as 5 primeiras entradas\n",
        "df.head()"
      ],
      "execution_count": 3,
      "outputs": [
        {
          "output_type": "execute_result",
          "data": {
            "text/plain": [
              "       id                                              name  host_id  \\\n",
              "0   44077               cosy comfortable Irish cottage twin   193005   \n",
              "1  178860               Georgian House in Heart of City Ctr   856312   \n",
              "2   85156      Cosy Comfortable Irish Cottage  1 Double Bed   193005   \n",
              "3  159889                              Friendly Single Room   766611   \n",
              "4  181823  Comfy room 5k from Croke Park - near beach/town.   608225   \n",
              "\n",
              "  host_name  neighbourhood_group          neighbourhood  latitude  longitude  \\\n",
              "0    Teresa                  NaN  Dn Laoghaire-Rathdown  53.29178   -6.25792   \n",
              "1  Danielle                  NaN            Dublin City  53.33281   -6.26750   \n",
              "2    Teresa                  NaN  Dn Laoghaire-Rathdown  53.29209   -6.25624   \n",
              "3  Margaret                  NaN            Dublin City  53.39027   -6.23547   \n",
              "4     Norah                  NaN            Dublin City  53.33740   -6.22061   \n",
              "\n",
              "      room_type  price  minimum_nights  number_of_reviews last_review  \\\n",
              "0  Private room     70               3                258  2022-09-09   \n",
              "1  Private room     80               2                313  2021-08-19   \n",
              "2  Private room     67               3                210  2022-09-11   \n",
              "3  Private room     45               2                355  2022-09-01   \n",
              "4  Private room    139               1                 50  2019-05-16   \n",
              "\n",
              "   reviews_per_month  calculated_host_listings_count  availability_365  \\\n",
              "0               1.85                               2               104   \n",
              "1               2.57                               2                 0   \n",
              "2               1.53                               2               110   \n",
              "3               2.78                               3               290   \n",
              "4               0.37                               2                 2   \n",
              "\n",
              "   number_of_reviews_ltm  license  \n",
              "0                     31      NaN  \n",
              "1                      0      NaN  \n",
              "2                     28      NaN  \n",
              "3                     44      NaN  \n",
              "4                      0      NaN  "
            ],
            "text/html": [
              "\n",
              "  <div id=\"df-de3291a0-b022-4b09-9c1e-3cdcec534ac4\">\n",
              "    <div class=\"colab-df-container\">\n",
              "      <div>\n",
              "<style scoped>\n",
              "    .dataframe tbody tr th:only-of-type {\n",
              "        vertical-align: middle;\n",
              "    }\n",
              "\n",
              "    .dataframe tbody tr th {\n",
              "        vertical-align: top;\n",
              "    }\n",
              "\n",
              "    .dataframe thead th {\n",
              "        text-align: right;\n",
              "    }\n",
              "</style>\n",
              "<table border=\"1\" class=\"dataframe\">\n",
              "  <thead>\n",
              "    <tr style=\"text-align: right;\">\n",
              "      <th></th>\n",
              "      <th>id</th>\n",
              "      <th>name</th>\n",
              "      <th>host_id</th>\n",
              "      <th>host_name</th>\n",
              "      <th>neighbourhood_group</th>\n",
              "      <th>neighbourhood</th>\n",
              "      <th>latitude</th>\n",
              "      <th>longitude</th>\n",
              "      <th>room_type</th>\n",
              "      <th>price</th>\n",
              "      <th>minimum_nights</th>\n",
              "      <th>number_of_reviews</th>\n",
              "      <th>last_review</th>\n",
              "      <th>reviews_per_month</th>\n",
              "      <th>calculated_host_listings_count</th>\n",
              "      <th>availability_365</th>\n",
              "      <th>number_of_reviews_ltm</th>\n",
              "      <th>license</th>\n",
              "    </tr>\n",
              "  </thead>\n",
              "  <tbody>\n",
              "    <tr>\n",
              "      <th>0</th>\n",
              "      <td>44077</td>\n",
              "      <td>cosy comfortable Irish cottage twin</td>\n",
              "      <td>193005</td>\n",
              "      <td>Teresa</td>\n",
              "      <td>NaN</td>\n",
              "      <td>Dn Laoghaire-Rathdown</td>\n",
              "      <td>53.29178</td>\n",
              "      <td>-6.25792</td>\n",
              "      <td>Private room</td>\n",
              "      <td>70</td>\n",
              "      <td>3</td>\n",
              "      <td>258</td>\n",
              "      <td>2022-09-09</td>\n",
              "      <td>1.85</td>\n",
              "      <td>2</td>\n",
              "      <td>104</td>\n",
              "      <td>31</td>\n",
              "      <td>NaN</td>\n",
              "    </tr>\n",
              "    <tr>\n",
              "      <th>1</th>\n",
              "      <td>178860</td>\n",
              "      <td>Georgian House in Heart of City Ctr</td>\n",
              "      <td>856312</td>\n",
              "      <td>Danielle</td>\n",
              "      <td>NaN</td>\n",
              "      <td>Dublin City</td>\n",
              "      <td>53.33281</td>\n",
              "      <td>-6.26750</td>\n",
              "      <td>Private room</td>\n",
              "      <td>80</td>\n",
              "      <td>2</td>\n",
              "      <td>313</td>\n",
              "      <td>2021-08-19</td>\n",
              "      <td>2.57</td>\n",
              "      <td>2</td>\n",
              "      <td>0</td>\n",
              "      <td>0</td>\n",
              "      <td>NaN</td>\n",
              "    </tr>\n",
              "    <tr>\n",
              "      <th>2</th>\n",
              "      <td>85156</td>\n",
              "      <td>Cosy Comfortable Irish Cottage  1 Double Bed</td>\n",
              "      <td>193005</td>\n",
              "      <td>Teresa</td>\n",
              "      <td>NaN</td>\n",
              "      <td>Dn Laoghaire-Rathdown</td>\n",
              "      <td>53.29209</td>\n",
              "      <td>-6.25624</td>\n",
              "      <td>Private room</td>\n",
              "      <td>67</td>\n",
              "      <td>3</td>\n",
              "      <td>210</td>\n",
              "      <td>2022-09-11</td>\n",
              "      <td>1.53</td>\n",
              "      <td>2</td>\n",
              "      <td>110</td>\n",
              "      <td>28</td>\n",
              "      <td>NaN</td>\n",
              "    </tr>\n",
              "    <tr>\n",
              "      <th>3</th>\n",
              "      <td>159889</td>\n",
              "      <td>Friendly Single Room</td>\n",
              "      <td>766611</td>\n",
              "      <td>Margaret</td>\n",
              "      <td>NaN</td>\n",
              "      <td>Dublin City</td>\n",
              "      <td>53.39027</td>\n",
              "      <td>-6.23547</td>\n",
              "      <td>Private room</td>\n",
              "      <td>45</td>\n",
              "      <td>2</td>\n",
              "      <td>355</td>\n",
              "      <td>2022-09-01</td>\n",
              "      <td>2.78</td>\n",
              "      <td>3</td>\n",
              "      <td>290</td>\n",
              "      <td>44</td>\n",
              "      <td>NaN</td>\n",
              "    </tr>\n",
              "    <tr>\n",
              "      <th>4</th>\n",
              "      <td>181823</td>\n",
              "      <td>Comfy room 5k from Croke Park - near beach/town.</td>\n",
              "      <td>608225</td>\n",
              "      <td>Norah</td>\n",
              "      <td>NaN</td>\n",
              "      <td>Dublin City</td>\n",
              "      <td>53.33740</td>\n",
              "      <td>-6.22061</td>\n",
              "      <td>Private room</td>\n",
              "      <td>139</td>\n",
              "      <td>1</td>\n",
              "      <td>50</td>\n",
              "      <td>2019-05-16</td>\n",
              "      <td>0.37</td>\n",
              "      <td>2</td>\n",
              "      <td>2</td>\n",
              "      <td>0</td>\n",
              "      <td>NaN</td>\n",
              "    </tr>\n",
              "  </tbody>\n",
              "</table>\n",
              "</div>\n",
              "      <button class=\"colab-df-convert\" onclick=\"convertToInteractive('df-de3291a0-b022-4b09-9c1e-3cdcec534ac4')\"\n",
              "              title=\"Convert this dataframe to an interactive table.\"\n",
              "              style=\"display:none;\">\n",
              "        \n",
              "  <svg xmlns=\"http://www.w3.org/2000/svg\" height=\"24px\"viewBox=\"0 0 24 24\"\n",
              "       width=\"24px\">\n",
              "    <path d=\"M0 0h24v24H0V0z\" fill=\"none\"/>\n",
              "    <path d=\"M18.56 5.44l.94 2.06.94-2.06 2.06-.94-2.06-.94-.94-2.06-.94 2.06-2.06.94zm-11 1L8.5 8.5l.94-2.06 2.06-.94-2.06-.94L8.5 2.5l-.94 2.06-2.06.94zm10 10l.94 2.06.94-2.06 2.06-.94-2.06-.94-.94-2.06-.94 2.06-2.06.94z\"/><path d=\"M17.41 7.96l-1.37-1.37c-.4-.4-.92-.59-1.43-.59-.52 0-1.04.2-1.43.59L10.3 9.45l-7.72 7.72c-.78.78-.78 2.05 0 2.83L4 21.41c.39.39.9.59 1.41.59.51 0 1.02-.2 1.41-.59l7.78-7.78 2.81-2.81c.8-.78.8-2.07 0-2.86zM5.41 20L4 18.59l7.72-7.72 1.47 1.35L5.41 20z\"/>\n",
              "  </svg>\n",
              "      </button>\n",
              "      \n",
              "  <style>\n",
              "    .colab-df-container {\n",
              "      display:flex;\n",
              "      flex-wrap:wrap;\n",
              "      gap: 12px;\n",
              "    }\n",
              "\n",
              "    .colab-df-convert {\n",
              "      background-color: #E8F0FE;\n",
              "      border: none;\n",
              "      border-radius: 50%;\n",
              "      cursor: pointer;\n",
              "      display: none;\n",
              "      fill: #1967D2;\n",
              "      height: 32px;\n",
              "      padding: 0 0 0 0;\n",
              "      width: 32px;\n",
              "    }\n",
              "\n",
              "    .colab-df-convert:hover {\n",
              "      background-color: #E2EBFA;\n",
              "      box-shadow: 0px 1px 2px rgba(60, 64, 67, 0.3), 0px 1px 3px 1px rgba(60, 64, 67, 0.15);\n",
              "      fill: #174EA6;\n",
              "    }\n",
              "\n",
              "    [theme=dark] .colab-df-convert {\n",
              "      background-color: #3B4455;\n",
              "      fill: #D2E3FC;\n",
              "    }\n",
              "\n",
              "    [theme=dark] .colab-df-convert:hover {\n",
              "      background-color: #434B5C;\n",
              "      box-shadow: 0px 1px 3px 1px rgba(0, 0, 0, 0.15);\n",
              "      filter: drop-shadow(0px 1px 2px rgba(0, 0, 0, 0.3));\n",
              "      fill: #FFFFFF;\n",
              "    }\n",
              "  </style>\n",
              "\n",
              "      <script>\n",
              "        const buttonEl =\n",
              "          document.querySelector('#df-de3291a0-b022-4b09-9c1e-3cdcec534ac4 button.colab-df-convert');\n",
              "        buttonEl.style.display =\n",
              "          google.colab.kernel.accessAllowed ? 'block' : 'none';\n",
              "\n",
              "        async function convertToInteractive(key) {\n",
              "          const element = document.querySelector('#df-de3291a0-b022-4b09-9c1e-3cdcec534ac4');\n",
              "          const dataTable =\n",
              "            await google.colab.kernel.invokeFunction('convertToInteractive',\n",
              "                                                     [key], {});\n",
              "          if (!dataTable) return;\n",
              "\n",
              "          const docLinkHtml = 'Like what you see? Visit the ' +\n",
              "            '<a target=\"_blank\" href=https://colab.research.google.com/notebooks/data_table.ipynb>data table notebook</a>'\n",
              "            + ' to learn more about interactive tables.';\n",
              "          element.innerHTML = '';\n",
              "          dataTable['output_type'] = 'display_data';\n",
              "          await google.colab.output.renderOutput(dataTable, element);\n",
              "          const docLink = document.createElement('div');\n",
              "          docLink.innerHTML = docLinkHtml;\n",
              "          element.appendChild(docLink);\n",
              "        }\n",
              "      </script>\n",
              "    </div>\n",
              "  </div>\n",
              "  "
            ]
          },
          "metadata": {},
          "execution_count": 3
        }
      ]
    },
    {
      "cell_type": "markdown",
      "metadata": {
        "id": "6-B_qtEaYEd-"
      },
      "source": [
        "### **Q1. Quantos atributos (variáveis) e quantas entradas o nosso conjunto de dados possui? Quais os tipos das variáveis?**"
      ]
    },
    {
      "cell_type": "code",
      "metadata": {
        "id": "TFRK0tniLV-G",
        "colab": {
          "base_uri": "https://localhost:8080/"
        },
        "outputId": "db6bfb8d-b66d-485d-bc18-775082719d0d"
      },
      "source": [
        "# identificar o volume de dados do DataFrame\n",
        "\n",
        "print('Entradas:{}'.format(df.shape[0]))\n",
        "print('Variáveis:{}'.format(df.shape[1]))\n"
      ],
      "execution_count": 4,
      "outputs": [
        {
          "output_type": "stream",
          "name": "stdout",
          "text": [
            "Entradas:7566\n",
            "Variáveis:18\n"
          ]
        }
      ]
    },
    {
      "cell_type": "code",
      "source": [
        "# verificar as 5 primeiras entradas do dataset\n",
        "df.head()"
      ],
      "metadata": {
        "colab": {
          "base_uri": "https://localhost:8080/",
          "height": 548
        },
        "id": "SsPKs2Ngj9sZ",
        "outputId": "93220b18-a11f-4988-ece4-162f6224d8fb"
      },
      "execution_count": 5,
      "outputs": [
        {
          "output_type": "execute_result",
          "data": {
            "text/plain": [
              "       id                                              name  host_id  \\\n",
              "0   44077               cosy comfortable Irish cottage twin   193005   \n",
              "1  178860               Georgian House in Heart of City Ctr   856312   \n",
              "2   85156      Cosy Comfortable Irish Cottage  1 Double Bed   193005   \n",
              "3  159889                              Friendly Single Room   766611   \n",
              "4  181823  Comfy room 5k from Croke Park - near beach/town.   608225   \n",
              "\n",
              "  host_name  neighbourhood_group          neighbourhood  latitude  longitude  \\\n",
              "0    Teresa                  NaN  Dn Laoghaire-Rathdown  53.29178   -6.25792   \n",
              "1  Danielle                  NaN            Dublin City  53.33281   -6.26750   \n",
              "2    Teresa                  NaN  Dn Laoghaire-Rathdown  53.29209   -6.25624   \n",
              "3  Margaret                  NaN            Dublin City  53.39027   -6.23547   \n",
              "4     Norah                  NaN            Dublin City  53.33740   -6.22061   \n",
              "\n",
              "      room_type  price  minimum_nights  number_of_reviews last_review  \\\n",
              "0  Private room     70               3                258  2022-09-09   \n",
              "1  Private room     80               2                313  2021-08-19   \n",
              "2  Private room     67               3                210  2022-09-11   \n",
              "3  Private room     45               2                355  2022-09-01   \n",
              "4  Private room    139               1                 50  2019-05-16   \n",
              "\n",
              "   reviews_per_month  calculated_host_listings_count  availability_365  \\\n",
              "0               1.85                               2               104   \n",
              "1               2.57                               2                 0   \n",
              "2               1.53                               2               110   \n",
              "3               2.78                               3               290   \n",
              "4               0.37                               2                 2   \n",
              "\n",
              "   number_of_reviews_ltm  license  \n",
              "0                     31      NaN  \n",
              "1                      0      NaN  \n",
              "2                     28      NaN  \n",
              "3                     44      NaN  \n",
              "4                      0      NaN  "
            ],
            "text/html": [
              "\n",
              "  <div id=\"df-c8955910-f3f1-4c9c-bddc-3a5087b07188\">\n",
              "    <div class=\"colab-df-container\">\n",
              "      <div>\n",
              "<style scoped>\n",
              "    .dataframe tbody tr th:only-of-type {\n",
              "        vertical-align: middle;\n",
              "    }\n",
              "\n",
              "    .dataframe tbody tr th {\n",
              "        vertical-align: top;\n",
              "    }\n",
              "\n",
              "    .dataframe thead th {\n",
              "        text-align: right;\n",
              "    }\n",
              "</style>\n",
              "<table border=\"1\" class=\"dataframe\">\n",
              "  <thead>\n",
              "    <tr style=\"text-align: right;\">\n",
              "      <th></th>\n",
              "      <th>id</th>\n",
              "      <th>name</th>\n",
              "      <th>host_id</th>\n",
              "      <th>host_name</th>\n",
              "      <th>neighbourhood_group</th>\n",
              "      <th>neighbourhood</th>\n",
              "      <th>latitude</th>\n",
              "      <th>longitude</th>\n",
              "      <th>room_type</th>\n",
              "      <th>price</th>\n",
              "      <th>minimum_nights</th>\n",
              "      <th>number_of_reviews</th>\n",
              "      <th>last_review</th>\n",
              "      <th>reviews_per_month</th>\n",
              "      <th>calculated_host_listings_count</th>\n",
              "      <th>availability_365</th>\n",
              "      <th>number_of_reviews_ltm</th>\n",
              "      <th>license</th>\n",
              "    </tr>\n",
              "  </thead>\n",
              "  <tbody>\n",
              "    <tr>\n",
              "      <th>0</th>\n",
              "      <td>44077</td>\n",
              "      <td>cosy comfortable Irish cottage twin</td>\n",
              "      <td>193005</td>\n",
              "      <td>Teresa</td>\n",
              "      <td>NaN</td>\n",
              "      <td>Dn Laoghaire-Rathdown</td>\n",
              "      <td>53.29178</td>\n",
              "      <td>-6.25792</td>\n",
              "      <td>Private room</td>\n",
              "      <td>70</td>\n",
              "      <td>3</td>\n",
              "      <td>258</td>\n",
              "      <td>2022-09-09</td>\n",
              "      <td>1.85</td>\n",
              "      <td>2</td>\n",
              "      <td>104</td>\n",
              "      <td>31</td>\n",
              "      <td>NaN</td>\n",
              "    </tr>\n",
              "    <tr>\n",
              "      <th>1</th>\n",
              "      <td>178860</td>\n",
              "      <td>Georgian House in Heart of City Ctr</td>\n",
              "      <td>856312</td>\n",
              "      <td>Danielle</td>\n",
              "      <td>NaN</td>\n",
              "      <td>Dublin City</td>\n",
              "      <td>53.33281</td>\n",
              "      <td>-6.26750</td>\n",
              "      <td>Private room</td>\n",
              "      <td>80</td>\n",
              "      <td>2</td>\n",
              "      <td>313</td>\n",
              "      <td>2021-08-19</td>\n",
              "      <td>2.57</td>\n",
              "      <td>2</td>\n",
              "      <td>0</td>\n",
              "      <td>0</td>\n",
              "      <td>NaN</td>\n",
              "    </tr>\n",
              "    <tr>\n",
              "      <th>2</th>\n",
              "      <td>85156</td>\n",
              "      <td>Cosy Comfortable Irish Cottage  1 Double Bed</td>\n",
              "      <td>193005</td>\n",
              "      <td>Teresa</td>\n",
              "      <td>NaN</td>\n",
              "      <td>Dn Laoghaire-Rathdown</td>\n",
              "      <td>53.29209</td>\n",
              "      <td>-6.25624</td>\n",
              "      <td>Private room</td>\n",
              "      <td>67</td>\n",
              "      <td>3</td>\n",
              "      <td>210</td>\n",
              "      <td>2022-09-11</td>\n",
              "      <td>1.53</td>\n",
              "      <td>2</td>\n",
              "      <td>110</td>\n",
              "      <td>28</td>\n",
              "      <td>NaN</td>\n",
              "    </tr>\n",
              "    <tr>\n",
              "      <th>3</th>\n",
              "      <td>159889</td>\n",
              "      <td>Friendly Single Room</td>\n",
              "      <td>766611</td>\n",
              "      <td>Margaret</td>\n",
              "      <td>NaN</td>\n",
              "      <td>Dublin City</td>\n",
              "      <td>53.39027</td>\n",
              "      <td>-6.23547</td>\n",
              "      <td>Private room</td>\n",
              "      <td>45</td>\n",
              "      <td>2</td>\n",
              "      <td>355</td>\n",
              "      <td>2022-09-01</td>\n",
              "      <td>2.78</td>\n",
              "      <td>3</td>\n",
              "      <td>290</td>\n",
              "      <td>44</td>\n",
              "      <td>NaN</td>\n",
              "    </tr>\n",
              "    <tr>\n",
              "      <th>4</th>\n",
              "      <td>181823</td>\n",
              "      <td>Comfy room 5k from Croke Park - near beach/town.</td>\n",
              "      <td>608225</td>\n",
              "      <td>Norah</td>\n",
              "      <td>NaN</td>\n",
              "      <td>Dublin City</td>\n",
              "      <td>53.33740</td>\n",
              "      <td>-6.22061</td>\n",
              "      <td>Private room</td>\n",
              "      <td>139</td>\n",
              "      <td>1</td>\n",
              "      <td>50</td>\n",
              "      <td>2019-05-16</td>\n",
              "      <td>0.37</td>\n",
              "      <td>2</td>\n",
              "      <td>2</td>\n",
              "      <td>0</td>\n",
              "      <td>NaN</td>\n",
              "    </tr>\n",
              "  </tbody>\n",
              "</table>\n",
              "</div>\n",
              "      <button class=\"colab-df-convert\" onclick=\"convertToInteractive('df-c8955910-f3f1-4c9c-bddc-3a5087b07188')\"\n",
              "              title=\"Convert this dataframe to an interactive table.\"\n",
              "              style=\"display:none;\">\n",
              "        \n",
              "  <svg xmlns=\"http://www.w3.org/2000/svg\" height=\"24px\"viewBox=\"0 0 24 24\"\n",
              "       width=\"24px\">\n",
              "    <path d=\"M0 0h24v24H0V0z\" fill=\"none\"/>\n",
              "    <path d=\"M18.56 5.44l.94 2.06.94-2.06 2.06-.94-2.06-.94-.94-2.06-.94 2.06-2.06.94zm-11 1L8.5 8.5l.94-2.06 2.06-.94-2.06-.94L8.5 2.5l-.94 2.06-2.06.94zm10 10l.94 2.06.94-2.06 2.06-.94-2.06-.94-.94-2.06-.94 2.06-2.06.94z\"/><path d=\"M17.41 7.96l-1.37-1.37c-.4-.4-.92-.59-1.43-.59-.52 0-1.04.2-1.43.59L10.3 9.45l-7.72 7.72c-.78.78-.78 2.05 0 2.83L4 21.41c.39.39.9.59 1.41.59.51 0 1.02-.2 1.41-.59l7.78-7.78 2.81-2.81c.8-.78.8-2.07 0-2.86zM5.41 20L4 18.59l7.72-7.72 1.47 1.35L5.41 20z\"/>\n",
              "  </svg>\n",
              "      </button>\n",
              "      \n",
              "  <style>\n",
              "    .colab-df-container {\n",
              "      display:flex;\n",
              "      flex-wrap:wrap;\n",
              "      gap: 12px;\n",
              "    }\n",
              "\n",
              "    .colab-df-convert {\n",
              "      background-color: #E8F0FE;\n",
              "      border: none;\n",
              "      border-radius: 50%;\n",
              "      cursor: pointer;\n",
              "      display: none;\n",
              "      fill: #1967D2;\n",
              "      height: 32px;\n",
              "      padding: 0 0 0 0;\n",
              "      width: 32px;\n",
              "    }\n",
              "\n",
              "    .colab-df-convert:hover {\n",
              "      background-color: #E2EBFA;\n",
              "      box-shadow: 0px 1px 2px rgba(60, 64, 67, 0.3), 0px 1px 3px 1px rgba(60, 64, 67, 0.15);\n",
              "      fill: #174EA6;\n",
              "    }\n",
              "\n",
              "    [theme=dark] .colab-df-convert {\n",
              "      background-color: #3B4455;\n",
              "      fill: #D2E3FC;\n",
              "    }\n",
              "\n",
              "    [theme=dark] .colab-df-convert:hover {\n",
              "      background-color: #434B5C;\n",
              "      box-shadow: 0px 1px 3px 1px rgba(0, 0, 0, 0.15);\n",
              "      filter: drop-shadow(0px 1px 2px rgba(0, 0, 0, 0.3));\n",
              "      fill: #FFFFFF;\n",
              "    }\n",
              "  </style>\n",
              "\n",
              "      <script>\n",
              "        const buttonEl =\n",
              "          document.querySelector('#df-c8955910-f3f1-4c9c-bddc-3a5087b07188 button.colab-df-convert');\n",
              "        buttonEl.style.display =\n",
              "          google.colab.kernel.accessAllowed ? 'block' : 'none';\n",
              "\n",
              "        async function convertToInteractive(key) {\n",
              "          const element = document.querySelector('#df-c8955910-f3f1-4c9c-bddc-3a5087b07188');\n",
              "          const dataTable =\n",
              "            await google.colab.kernel.invokeFunction('convertToInteractive',\n",
              "                                                     [key], {});\n",
              "          if (!dataTable) return;\n",
              "\n",
              "          const docLinkHtml = 'Like what you see? Visit the ' +\n",
              "            '<a target=\"_blank\" href=https://colab.research.google.com/notebooks/data_table.ipynb>data table notebook</a>'\n",
              "            + ' to learn more about interactive tables.';\n",
              "          element.innerHTML = '';\n",
              "          dataTable['output_type'] = 'display_data';\n",
              "          await google.colab.output.renderOutput(dataTable, element);\n",
              "          const docLink = document.createElement('div');\n",
              "          docLink.innerHTML = docLinkHtml;\n",
              "          element.appendChild(docLink);\n",
              "        }\n",
              "      </script>\n",
              "    </div>\n",
              "  </div>\n",
              "  "
            ]
          },
          "metadata": {},
          "execution_count": 5
        }
      ]
    },
    {
      "cell_type": "code",
      "source": [
        "# Verificando os tipos das variáveis\n",
        "df.dtypes\n"
      ],
      "metadata": {
        "colab": {
          "base_uri": "https://localhost:8080/"
        },
        "id": "uUQH3_9TlFnc",
        "outputId": "5471f05a-f1fd-438e-c3b5-dcdded348c42"
      },
      "execution_count": 6,
      "outputs": [
        {
          "output_type": "execute_result",
          "data": {
            "text/plain": [
              "id                                  int64\n",
              "name                               object\n",
              "host_id                             int64\n",
              "host_name                          object\n",
              "neighbourhood_group               float64\n",
              "neighbourhood                      object\n",
              "latitude                          float64\n",
              "longitude                         float64\n",
              "room_type                          object\n",
              "price                               int64\n",
              "minimum_nights                      int64\n",
              "number_of_reviews                   int64\n",
              "last_review                        object\n",
              "reviews_per_month                 float64\n",
              "calculated_host_listings_count      int64\n",
              "availability_365                    int64\n",
              "number_of_reviews_ltm               int64\n",
              "license                           float64\n",
              "dtype: object"
            ]
          },
          "metadata": {},
          "execution_count": 6
        }
      ]
    },
    {
      "cell_type": "markdown",
      "metadata": {
        "id": "yz1urSUGW9iE"
      },
      "source": [
        "### **Q2. Qual a porcentagem de valores ausentes no *dataset*?**"
      ]
    },
    {
      "cell_type": "code",
      "source": [
        "# Quantidade de valores ausentes\n",
        "df.isnull().sum()"
      ],
      "metadata": {
        "colab": {
          "base_uri": "https://localhost:8080/"
        },
        "id": "PkDkQDVvloha",
        "outputId": "36bc4baa-3d6b-432c-f7cd-f7f800911352"
      },
      "execution_count": 7,
      "outputs": [
        {
          "output_type": "execute_result",
          "data": {
            "text/plain": [
              "id                                   0\n",
              "name                                 0\n",
              "host_id                              0\n",
              "host_name                            0\n",
              "neighbourhood_group               7566\n",
              "neighbourhood                        0\n",
              "latitude                             0\n",
              "longitude                            0\n",
              "room_type                            0\n",
              "price                                0\n",
              "minimum_nights                       0\n",
              "number_of_reviews                    0\n",
              "last_review                       1357\n",
              "reviews_per_month                 1357\n",
              "calculated_host_listings_count       0\n",
              "availability_365                     0\n",
              "number_of_reviews_ltm                0\n",
              "license                           7566\n",
              "dtype: int64"
            ]
          },
          "metadata": {},
          "execution_count": 7
        }
      ]
    },
    {
      "cell_type": "code",
      "source": [
        "# Percentual de Valores ausentes\n",
        "df.isnull().sum()/df.shape[0]"
      ],
      "metadata": {
        "colab": {
          "base_uri": "https://localhost:8080/"
        },
        "id": "XssEfaNqnZWb",
        "outputId": "a4dc744c-e537-4e49-ff1b-ea76c4e42ca0"
      },
      "execution_count": 8,
      "outputs": [
        {
          "output_type": "execute_result",
          "data": {
            "text/plain": [
              "id                                0.000000\n",
              "name                              0.000000\n",
              "host_id                           0.000000\n",
              "host_name                         0.000000\n",
              "neighbourhood_group               1.000000\n",
              "neighbourhood                     0.000000\n",
              "latitude                          0.000000\n",
              "longitude                         0.000000\n",
              "room_type                         0.000000\n",
              "price                             0.000000\n",
              "minimum_nights                    0.000000\n",
              "number_of_reviews                 0.000000\n",
              "last_review                       0.179355\n",
              "reviews_per_month                 0.179355\n",
              "calculated_host_listings_count    0.000000\n",
              "availability_365                  0.000000\n",
              "number_of_reviews_ltm             0.000000\n",
              "license                           1.000000\n",
              "dtype: float64"
            ]
          },
          "metadata": {},
          "execution_count": 8
        }
      ]
    },
    {
      "cell_type": "code",
      "metadata": {
        "id": "plk2FjbCXOqP",
        "colab": {
          "base_uri": "https://localhost:8080/"
        },
        "outputId": "60167487-971f-4487-ac86-c67f4db806d3"
      },
      "source": [
        "# ordenar em ordem decrescente as variáveis por seus valores ausentes\n",
        "(df.isnull().sum()/df.shape[0]).sort_values(ascending=False)"
      ],
      "execution_count": 9,
      "outputs": [
        {
          "output_type": "execute_result",
          "data": {
            "text/plain": [
              "license                           1.000000\n",
              "neighbourhood_group               1.000000\n",
              "reviews_per_month                 0.179355\n",
              "last_review                       0.179355\n",
              "minimum_nights                    0.000000\n",
              "number_of_reviews_ltm             0.000000\n",
              "availability_365                  0.000000\n",
              "calculated_host_listings_count    0.000000\n",
              "number_of_reviews                 0.000000\n",
              "id                                0.000000\n",
              "name                              0.000000\n",
              "room_type                         0.000000\n",
              "longitude                         0.000000\n",
              "latitude                          0.000000\n",
              "neighbourhood                     0.000000\n",
              "host_name                         0.000000\n",
              "host_id                           0.000000\n",
              "price                             0.000000\n",
              "dtype: float64"
            ]
          },
          "metadata": {},
          "execution_count": 9
        }
      ]
    },
    {
      "cell_type": "markdown",
      "metadata": {
        "id": "iHXvvHIxaoNc"
      },
      "source": [
        "### **Q3. Qual o tipo de distribuição das variáveis?** "
      ]
    },
    {
      "cell_type": "code",
      "metadata": {
        "id": "q2wWSfeRbmBo",
        "colab": {
          "base_uri": "https://localhost:8080/",
          "height": 607
        },
        "outputId": "0f9e4d6a-b2e6-405c-9da5-891f63b47d49"
      },
      "source": [
        "# plotar o histograma das variáveis numéricas\n",
        "df.hist(bins=15, figsize=(15,10));"
      ],
      "execution_count": 10,
      "outputs": [
        {
          "output_type": "display_data",
          "data": {
            "text/plain": [
              "<Figure size 1080x720 with 16 Axes>"
            ],
            "image/png": "[encoded data removed]"
          },
          "metadata": {
            "needs_background": "light"
          }
        }
      ]
    },
    {
      "cell_type": "code",
      "source": [
        "# Outliers presentes\n",
        "# Resumo Estatístico\n",
        "df[['price','minimum_nights', 'number_of_reviews', 'reviews_per_month', 'calculated_host_listings_count', 'availability_365', 'number_of_reviews_ltm']].describe()"
      ],
      "metadata": {
        "colab": {
          "base_uri": "https://localhost:8080/",
          "height": 300
        },
        "id": "NuPyiUf4t0hG",
        "outputId": "3b8dd5e5-3d2a-465d-ec52-19f15e15c1d1"
      },
      "execution_count": 11,
      "outputs": [
        {
          "output_type": "execute_result",
          "data": {
            "text/plain": [
              "              price  minimum_nights  number_of_reviews  reviews_per_month  \\\n",
              "count   7566.000000     7566.000000        7566.000000        6209.000000   \n",
              "mean     182.327914        6.253899          32.141554           1.319006   \n",
              "std     1170.750217       28.165241          65.581141           1.988691   \n",
              "min       10.000000        1.000000           0.000000           0.010000   \n",
              "25%       65.000000        1.000000           1.000000           0.130000   \n",
              "50%      105.000000        2.000000           7.000000           0.610000   \n",
              "75%      192.750000        4.000000          30.000000           1.760000   \n",
              "max    99149.000000     1125.000000         770.000000          44.720000   \n",
              "\n",
              "       calculated_host_listings_count  availability_365  number_of_reviews_ltm  \n",
              "count                     7566.000000       7566.000000            7566.000000  \n",
              "mean                         4.160983         64.799630               7.417394  \n",
              "std                          9.654986        105.541663              19.736251  \n",
              "min                          1.000000          0.000000               0.000000  \n",
              "25%                          1.000000          0.000000               0.000000  \n",
              "50%                          1.000000          0.000000               0.000000  \n",
              "75%                          3.000000         91.000000               6.000000  \n",
              "max                         66.000000        365.000000             536.000000  "
            ],
            "text/html": [
              "\n",
              "  <div id=\"df-4c3372de-23ba-403f-a464-f4208693d522\">\n",
              "    <div class=\"colab-df-container\">\n",
              "      <div>\n",
              "<style scoped>\n",
              "    .dataframe tbody tr th:only-of-type {\n",
              "        vertical-align: middle;\n",
              "    }\n",
              "\n",
              "    .dataframe tbody tr th {\n",
              "        vertical-align: top;\n",
              "    }\n",
              "\n",
              "    .dataframe thead th {\n",
              "        text-align: right;\n",
              "    }\n",
              "</style>\n",
              "<table border=\"1\" class=\"dataframe\">\n",
              "  <thead>\n",
              "    <tr style=\"text-align: right;\">\n",
              "      <th></th>\n",
              "      <th>price</th>\n",
              "      <th>minimum_nights</th>\n",
              "      <th>number_of_reviews</th>\n",
              "      <th>reviews_per_month</th>\n",
              "      <th>calculated_host_listings_count</th>\n",
              "      <th>availability_365</th>\n",
              "      <th>number_of_reviews_ltm</th>\n",
              "    </tr>\n",
              "  </thead>\n",
              "  <tbody>\n",
              "    <tr>\n",
              "      <th>count</th>\n",
              "      <td>7566.000000</td>\n",
              "      <td>7566.000000</td>\n",
              "      <td>7566.000000</td>\n",
              "      <td>6209.000000</td>\n",
              "      <td>7566.000000</td>\n",
              "      <td>7566.000000</td>\n",
              "      <td>7566.000000</td>\n",
              "    </tr>\n",
              "    <tr>\n",
              "      <th>mean</th>\n",
              "      <td>182.327914</td>\n",
              "      <td>6.253899</td>\n",
              "      <td>32.141554</td>\n",
              "      <td>1.319006</td>\n",
              "      <td>4.160983</td>\n",
              "      <td>64.799630</td>\n",
              "      <td>7.417394</td>\n",
              "    </tr>\n",
              "    <tr>\n",
              "      <th>std</th>\n",
              "      <td>1170.750217</td>\n",
              "      <td>28.165241</td>\n",
              "      <td>65.581141</td>\n",
              "      <td>1.988691</td>\n",
              "      <td>9.654986</td>\n",
              "      <td>105.541663</td>\n",
              "      <td>19.736251</td>\n",
              "    </tr>\n",
              "    <tr>\n",
              "      <th>min</th>\n",
              "      <td>10.000000</td>\n",
              "      <td>1.000000</td>\n",
              "      <td>0.000000</td>\n",
              "      <td>0.010000</td>\n",
              "      <td>1.000000</td>\n",
              "      <td>0.000000</td>\n",
              "      <td>0.000000</td>\n",
              "    </tr>\n",
              "    <tr>\n",
              "      <th>25%</th>\n",
              "      <td>65.000000</td>\n",
              "      <td>1.000000</td>\n",
              "      <td>1.000000</td>\n",
              "      <td>0.130000</td>\n",
              "      <td>1.000000</td>\n",
              "      <td>0.000000</td>\n",
              "      <td>0.000000</td>\n",
              "    </tr>\n",
              "    <tr>\n",
              "      <th>50%</th>\n",
              "      <td>105.000000</td>\n",
              "      <td>2.000000</td>\n",
              "      <td>7.000000</td>\n",
              "      <td>0.610000</td>\n",
              "      <td>1.000000</td>\n",
              "      <td>0.000000</td>\n",
              "      <td>0.000000</td>\n",
              "    </tr>\n",
              "    <tr>\n",
              "      <th>75%</th>\n",
              "      <td>192.750000</td>\n",
              "      <td>4.000000</td>\n",
              "      <td>30.000000</td>\n",
              "      <td>1.760000</td>\n",
              "      <td>3.000000</td>\n",
              "      <td>91.000000</td>\n",
              "      <td>6.000000</td>\n",
              "    </tr>\n",
              "    <tr>\n",
              "      <th>max</th>\n",
              "      <td>99149.000000</td>\n",
              "      <td>1125.000000</td>\n",
              "      <td>770.000000</td>\n",
              "      <td>44.720000</td>\n",
              "      <td>66.000000</td>\n",
              "      <td>365.000000</td>\n",
              "      <td>536.000000</td>\n",
              "    </tr>\n",
              "  </tbody>\n",
              "</table>\n",
              "</div>\n",
              "      <button class=\"colab-df-convert\" onclick=\"convertToInteractive('df-4c3372de-23ba-403f-a464-f4208693d522')\"\n",
              "              title=\"Convert this dataframe to an interactive table.\"\n",
              "              style=\"display:none;\">\n",
              "        \n",
              "  <svg xmlns=\"http://www.w3.org/2000/svg\" height=\"24px\"viewBox=\"0 0 24 24\"\n",
              "       width=\"24px\">\n",
              "    <path d=\"M0 0h24v24H0V0z\" fill=\"none\"/>\n",
              "    <path d=\"M18.56 5.44l.94 2.06.94-2.06 2.06-.94-2.06-.94-.94-2.06-.94 2.06-2.06.94zm-11 1L8.5 8.5l.94-2.06 2.06-.94-2.06-.94L8.5 2.5l-.94 2.06-2.06.94zm10 10l.94 2.06.94-2.06 2.06-.94-2.06-.94-.94-2.06-.94 2.06-2.06.94z\"/><path d=\"M17.41 7.96l-1.37-1.37c-.4-.4-.92-.59-1.43-.59-.52 0-1.04.2-1.43.59L10.3 9.45l-7.72 7.72c-.78.78-.78 2.05 0 2.83L4 21.41c.39.39.9.59 1.41.59.51 0 1.02-.2 1.41-.59l7.78-7.78 2.81-2.81c.8-.78.8-2.07 0-2.86zM5.41 20L4 18.59l7.72-7.72 1.47 1.35L5.41 20z\"/>\n",
              "  </svg>\n",
              "      </button>\n",
              "      \n",
              "  <style>\n",
              "    .colab-df-container {\n",
              "      display:flex;\n",
              "      flex-wrap:wrap;\n",
              "      gap: 12px;\n",
              "    }\n",
              "\n",
              "    .colab-df-convert {\n",
              "      background-color: #E8F0FE;\n",
              "      border: none;\n",
              "      border-radius: 50%;\n",
              "      cursor: pointer;\n",
              "      display: none;\n",
              "      fill: #1967D2;\n",
              "      height: 32px;\n",
              "      padding: 0 0 0 0;\n",
              "      width: 32px;\n",
              "    }\n",
              "\n",
              "    .colab-df-convert:hover {\n",
              "      background-color: #E2EBFA;\n",
              "      box-shadow: 0px 1px 2px rgba(60, 64, 67, 0.3), 0px 1px 3px 1px rgba(60, 64, 67, 0.15);\n",
              "      fill: #174EA6;\n",
              "    }\n",
              "\n",
              "    [theme=dark] .colab-df-convert {\n",
              "      background-color: #3B4455;\n",
              "      fill: #D2E3FC;\n",
              "    }\n",
              "\n",
              "    [theme=dark] .colab-df-convert:hover {\n",
              "      background-color: #434B5C;\n",
              "      box-shadow: 0px 1px 3px 1px rgba(0, 0, 0, 0.15);\n",
              "      filter: drop-shadow(0px 1px 2px rgba(0, 0, 0, 0.3));\n",
              "      fill: #FFFFFF;\n",
              "    }\n",
              "  </style>\n",
              "\n",
              "      <script>\n",
              "        const buttonEl =\n",
              "          document.querySelector('#df-4c3372de-23ba-403f-a464-f4208693d522 button.colab-df-convert');\n",
              "        buttonEl.style.display =\n",
              "          google.colab.kernel.accessAllowed ? 'block' : 'none';\n",
              "\n",
              "        async function convertToInteractive(key) {\n",
              "          const element = document.querySelector('#df-4c3372de-23ba-403f-a464-f4208693d522');\n",
              "          const dataTable =\n",
              "            await google.colab.kernel.invokeFunction('convertToInteractive',\n",
              "                                                     [key], {});\n",
              "          if (!dataTable) return;\n",
              "\n",
              "          const docLinkHtml = 'Like what you see? Visit the ' +\n",
              "            '<a target=\"_blank\" href=https://colab.research.google.com/notebooks/data_table.ipynb>data table notebook</a>'\n",
              "            + ' to learn more about interactive tables.';\n",
              "          element.innerHTML = '';\n",
              "          dataTable['output_type'] = 'display_data';\n",
              "          await google.colab.output.renderOutput(dataTable, element);\n",
              "          const docLink = document.createElement('div');\n",
              "          docLink.innerHTML = docLinkHtml;\n",
              "          element.appendChild(docLink);\n",
              "        }\n",
              "      </script>\n",
              "    </div>\n",
              "  </div>\n",
              "  "
            ]
          },
          "metadata": {},
          "execution_count": 11
        }
      ]
    },
    {
      "cell_type": "code",
      "source": [
        "df.groupby(\"neighbourhood\").price.max()"
      ],
      "metadata": {
        "colab": {
          "base_uri": "https://localhost:8080/"
        },
        "id": "JMhu-bKHhrIy",
        "outputId": "82096934-7aac-4f08-e688-75301f5a3f98"
      },
      "execution_count": 44,
      "outputs": [
        {
          "output_type": "execute_result",
          "data": {
            "text/plain": [
              "neighbourhood\n",
              "Dn Laoghaire-Rathdown     2000\n",
              "Dublin City               8956\n",
              "Fingal                   99149\n",
              "South Dublin              2571\n",
              "Name: price, dtype: int64"
            ]
          },
          "metadata": {},
          "execution_count": 44
        }
      ]
    },
    {
      "cell_type": "code",
      "source": [
        "df.loc[df['price']==99149]"
      ],
      "metadata": {
        "colab": {
          "base_uri": "https://localhost:8080/",
          "height": 162
        },
        "id": "fyX7ZF5-jm3I",
        "outputId": "93574fa9-c7aa-4d45-c383-b1f22950d5e4"
      },
      "execution_count": 53,
      "outputs": [
        {
          "output_type": "execute_result",
          "data": {
            "text/plain": [
              "                      id           name    host_id host_name  \\\n",
              "6149  592358982465178083  Not available  342210497    Larisa   \n",
              "\n",
              "      neighbourhood_group neighbourhood  latitude  longitude     room_type  \\\n",
              "6149                  NaN        Fingal   53.4018   -6.40331  Private room   \n",
              "\n",
              "      price  minimum_nights  number_of_reviews last_review  reviews_per_month  \\\n",
              "6149  99149               2                  8  2022-08-22               2.33   \n",
              "\n",
              "      calculated_host_listings_count  availability_365  number_of_reviews_ltm  \\\n",
              "6149                               2               252                      8   \n",
              "\n",
              "      license  \n",
              "6149      NaN  "
            ],
            "text/html": [
              "\n",
              "  <div id=\"df-2d48b745-2644-4210-8a53-9c9bf0fef8ee\">\n",
              "    <div class=\"colab-df-container\">\n",
              "      <div>\n",
              "<style scoped>\n",
              "    .dataframe tbody tr th:only-of-type {\n",
              "        vertical-align: middle;\n",
              "    }\n",
              "\n",
              "    .dataframe tbody tr th {\n",
              "        vertical-align: top;\n",
              "    }\n",
              "\n",
              "    .dataframe thead th {\n",
              "        text-align: right;\n",
              "    }\n",
              "</style>\n",
              "<table border=\"1\" class=\"dataframe\">\n",
              "  <thead>\n",
              "    <tr style=\"text-align: right;\">\n",
              "      <th></th>\n",
              "      <th>id</th>\n",
              "      <th>name</th>\n",
              "      <th>host_id</th>\n",
              "      <th>host_name</th>\n",
              "      <th>neighbourhood_group</th>\n",
              "      <th>neighbourhood</th>\n",
              "      <th>latitude</th>\n",
              "      <th>longitude</th>\n",
              "      <th>room_type</th>\n",
              "      <th>price</th>\n",
              "      <th>minimum_nights</th>\n",
              "      <th>number_of_reviews</th>\n",
              "      <th>last_review</th>\n",
              "      <th>reviews_per_month</th>\n",
              "      <th>calculated_host_listings_count</th>\n",
              "      <th>availability_365</th>\n",
              "      <th>number_of_reviews_ltm</th>\n",
              "      <th>license</th>\n",
              "    </tr>\n",
              "  </thead>\n",
              "  <tbody>\n",
              "    <tr>\n",
              "      <th>6149</th>\n",
              "      <td>592358982465178083</td>\n",
              "      <td>Not available</td>\n",
              "      <td>342210497</td>\n",
              "      <td>Larisa</td>\n",
              "      <td>NaN</td>\n",
              "      <td>Fingal</td>\n",
              "      <td>53.4018</td>\n",
              "      <td>-6.40331</td>\n",
              "      <td>Private room</td>\n",
              "      <td>99149</td>\n",
              "      <td>2</td>\n",
              "      <td>8</td>\n",
              "      <td>2022-08-22</td>\n",
              "      <td>2.33</td>\n",
              "      <td>2</td>\n",
              "      <td>252</td>\n",
              "      <td>8</td>\n",
              "      <td>NaN</td>\n",
              "    </tr>\n",
              "  </tbody>\n",
              "</table>\n",
              "</div>\n",
              "      <button class=\"colab-df-convert\" onclick=\"convertToInteractive('df-2d48b745-2644-4210-8a53-9c9bf0fef8ee')\"\n",
              "              title=\"Convert this dataframe to an interactive table.\"\n",
              "              style=\"display:none;\">\n",
              "        \n",
              "  <svg xmlns=\"http://www.w3.org/2000/svg\" height=\"24px\"viewBox=\"0 0 24 24\"\n",
              "       width=\"24px\">\n",
              "    <path d=\"M0 0h24v24H0V0z\" fill=\"none\"/>\n",
              "    <path d=\"M18.56 5.44l.94 2.06.94-2.06 2.06-.94-2.06-.94-.94-2.06-.94 2.06-2.06.94zm-11 1L8.5 8.5l.94-2.06 2.06-.94-2.06-.94L8.5 2.5l-.94 2.06-2.06.94zm10 10l.94 2.06.94-2.06 2.06-.94-2.06-.94-.94-2.06-.94 2.06-2.06.94z\"/><path d=\"M17.41 7.96l-1.37-1.37c-.4-.4-.92-.59-1.43-.59-.52 0-1.04.2-1.43.59L10.3 9.45l-7.72 7.72c-.78.78-.78 2.05 0 2.83L4 21.41c.39.39.9.59 1.41.59.51 0 1.02-.2 1.41-.59l7.78-7.78 2.81-2.81c.8-.78.8-2.07 0-2.86zM5.41 20L4 18.59l7.72-7.72 1.47 1.35L5.41 20z\"/>\n",
              "  </svg>\n",
              "      </button>\n",
              "      \n",
              "  <style>\n",
              "    .colab-df-container {\n",
              "      display:flex;\n",
              "      flex-wrap:wrap;\n",
              "      gap: 12px;\n",
              "    }\n",
              "\n",
              "    .colab-df-convert {\n",
              "      background-color: #E8F0FE;\n",
              "      border: none;\n",
              "      border-radius: 50%;\n",
              "      cursor: pointer;\n",
              "      display: none;\n",
              "      fill: #1967D2;\n",
              "      height: 32px;\n",
              "      padding: 0 0 0 0;\n",
              "      width: 32px;\n",
              "    }\n",
              "\n",
              "    .colab-df-convert:hover {\n",
              "      background-color: #E2EBFA;\n",
              "      box-shadow: 0px 1px 2px rgba(60, 64, 67, 0.3), 0px 1px 3px 1px rgba(60, 64, 67, 0.15);\n",
              "      fill: #174EA6;\n",
              "    }\n",
              "\n",
              "    [theme=dark] .colab-df-convert {\n",
              "      background-color: #3B4455;\n",
              "      fill: #D2E3FC;\n",
              "    }\n",
              "\n",
              "    [theme=dark] .colab-df-convert:hover {\n",
              "      background-color: #434B5C;\n",
              "      box-shadow: 0px 1px 3px 1px rgba(0, 0, 0, 0.15);\n",
              "      filter: drop-shadow(0px 1px 2px rgba(0, 0, 0, 0.3));\n",
              "      fill: #FFFFFF;\n",
              "    }\n",
              "  </style>\n",
              "\n",
              "      <script>\n",
              "        const buttonEl =\n",
              "          document.querySelector('#df-2d48b745-2644-4210-8a53-9c9bf0fef8ee button.colab-df-convert');\n",
              "        buttonEl.style.display =\n",
              "          google.colab.kernel.accessAllowed ? 'block' : 'none';\n",
              "\n",
              "        async function convertToInteractive(key) {\n",
              "          const element = document.querySelector('#df-2d48b745-2644-4210-8a53-9c9bf0fef8ee');\n",
              "          const dataTable =\n",
              "            await google.colab.kernel.invokeFunction('convertToInteractive',\n",
              "                                                     [key], {});\n",
              "          if (!dataTable) return;\n",
              "\n",
              "          const docLinkHtml = 'Like what you see? Visit the ' +\n",
              "            '<a target=\"_blank\" href=https://colab.research.google.com/notebooks/data_table.ipynb>data table notebook</a>'\n",
              "            + ' to learn more about interactive tables.';\n",
              "          element.innerHTML = '';\n",
              "          dataTable['output_type'] = 'display_data';\n",
              "          await google.colab.output.renderOutput(dataTable, element);\n",
              "          const docLink = document.createElement('div');\n",
              "          docLink.innerHTML = docLinkHtml;\n",
              "          element.appendChild(docLink);\n",
              "        }\n",
              "      </script>\n",
              "    </div>\n",
              "  </div>\n",
              "  "
            ]
          },
          "metadata": {},
          "execution_count": 53
        }
      ]
    },
    {
      "cell_type": "markdown",
      "metadata": {
        "id": "7x4aw1j5wNmn"
      },
      "source": [
        "### **Q4. Qual a média dos preços de aluguel?**"
      ]
    },
    {
      "cell_type": "code",
      "metadata": {
        "id": "ff-8gUahLk-C",
        "colab": {
          "base_uri": "https://localhost:8080/"
        },
        "outputId": "92df7c4e-e832-44df-dffe-18241dd3e9f0"
      },
      "source": [
        "# ver a média da coluna `price``\n",
        "df.price.mean()"
      ],
      "execution_count": 12,
      "outputs": [
        {
          "output_type": "execute_result",
          "data": {
            "text/plain": [
              "182.32791435368756"
            ]
          },
          "metadata": {},
          "execution_count": 12
        }
      ]
    },
    {
      "cell_type": "markdown",
      "source": [
        "**Boxplot para price**\n",
        "\n"
      ],
      "metadata": {
        "id": "BE_J9uxSh7ST"
      }
    },
    {
      "cell_type": "code",
      "source": [
        "df.price.plot(kind='box', vert=False, figsize=(15,3))\n",
        "plt.show()\n",
        "\n",
        "# ver quantidade de valores acima de 1500 para price\n",
        "print(\"price: valores acima de 1500\")\n",
        "print(\"{} entradas\".format(len(df[df.price>1500])))\n",
        "print(\"{:.4f}%\".format((len(df[df.price>1500])/ df.shape[0])*100))"
      ],
      "metadata": {
        "colab": {
          "base_uri": "https://localhost:8080/",
          "height": 263
        },
        "id": "IOH7XG7iiCia",
        "outputId": "160a2635-38a2-4cf9-c98c-ea98ddf2691b"
      },
      "execution_count": 15,
      "outputs": [
        {
          "output_type": "display_data",
          "data": {
            "text/plain": [
              "<Figure size 1080x216 with 1 Axes>"
            ],
            "image/png": "[encoded data removed]"
          },
          "metadata": {
            "needs_background": "light"
          }
        },
        {
          "output_type": "stream",
          "name": "stdout",
          "text": [
            "price: valores acima de 1500\n",
            "79 entradas\n",
            "1.0441%\n"
          ]
        }
      ]
    },
    {
      "cell_type": "code",
      "source": [
        "# ver a média da coluna `minimum_nights``\n",
        "df.minimum_nights.mean()"
      ],
      "metadata": {
        "colab": {
          "base_uri": "https://localhost:8080/"
        },
        "id": "NbR_xEQNe2fT",
        "outputId": "f068d7d4-5f03-48d7-89ee-d46c7dc08b13"
      },
      "execution_count": 16,
      "outputs": [
        {
          "output_type": "execute_result",
          "data": {
            "text/plain": [
              "6.253899021940259"
            ]
          },
          "metadata": {},
          "execution_count": 16
        }
      ]
    },
    {
      "cell_type": "markdown",
      "source": [
        "**Boxplot para minimum nights**\n"
      ],
      "metadata": {
        "id": "94i275THqupm"
      }
    },
    {
      "cell_type": "code",
      "source": [
        "df.minimum_nights.plot(kind='box', vert=False, figsize=(15,3))\n",
        "plt.show()\n",
        "\n",
        "# ver quantidade de valores acima de 90 noites (3 meses)\n",
        "print(\"mínimo de noites: valores acima de 90\")\n",
        "print(\"{} entradas\".format(len(df[df.minimum_nights > 90])))\n",
        "print(\"{:.4f}%\".format((len(df[df.minimum_nights > 90])/ df.shape[0])*100))"
      ],
      "metadata": {
        "colab": {
          "base_uri": "https://localhost:8080/",
          "height": 263
        },
        "id": "1uQqWR8Me2Pj",
        "outputId": "1ca3c2e8-fd9c-4366-cd17-b2d1862ac472"
      },
      "execution_count": 17,
      "outputs": [
        {
          "output_type": "display_data",
          "data": {
            "text/plain": [
              "<Figure size 1080x216 with 1 Axes>"
            ],
            "image/png": "[encoded data removed]"
          },
          "metadata": {
            "needs_background": "light"
          }
        },
        {
          "output_type": "stream",
          "name": "stdout",
          "text": [
            "mínimo de noites: valores acima de 90\n",
            "52 entradas\n",
            "0.6873%\n"
          ]
        }
      ]
    },
    {
      "cell_type": "markdown",
      "source": [
        "**Histograma sem Outliers**\n"
      ],
      "metadata": {
        "id": "DGM9yOsyMAXM"
      }
    },
    {
      "cell_type": "code",
      "source": [
        "# tirando os outliers\n",
        "df_clean = df.copy()\n",
        "df_clean.drop(df_clean[df_clean.price>1500].index, axis=0, inplace=True)\n",
        "df_clean.drop(df_clean[df_clean.minimum_nights>90].index, axis=0, inplace=True)\n",
        "\n",
        "# tirando as colunas vazias\n",
        "df_clean.drop(['neighbourhood_group', 'license'], axis=1, inplace=True)\n",
        "\n",
        "# Plotando o Histograma atualizado\n",
        "df_clean.hist(bins=15, figsize=(15,10));"
      ],
      "metadata": {
        "colab": {
          "base_uri": "https://localhost:8080/",
          "height": 607
        },
        "id": "3bqxsxEeMGtn",
        "outputId": "a0982b10-f1f8-417c-bedf-986d3fa62106"
      },
      "execution_count": 18,
      "outputs": [
        {
          "output_type": "display_data",
          "data": {
            "text/plain": [
              "<Figure size 1080x720 with 12 Axes>"
            ],
            "image/png": "[encoded data removed]"
          },
          "metadata": {
            "needs_background": "light"
          }
        }
      ]
    },
    {
      "cell_type": "markdown",
      "metadata": {
        "id": "IXn2oIo5qx-w"
      },
      "source": [
        "### **Q5. Qual a correlação existente entre as variáveis**"
      ]
    },
    {
      "cell_type": "code",
      "metadata": {
        "id": "x2ayzBajqxyd",
        "colab": {
          "base_uri": "https://localhost:8080/",
          "height": 269
        },
        "outputId": "c4bf4a03-d7bd-490b-e6ba-f526d681cf53"
      },
      "source": [
        "# criar uma matriz de correlação\n",
        "corr = df_clean[['price', 'minimum_nights', 'number_of_reviews', 'reviews_per_month', 'calculated_host_listings_count', 'availability_365', 'number_of_reviews_ltm']].corr()\n",
        "# mostrar a matriz de correlação\n",
        "display(corr)"
      ],
      "execution_count": 19,
      "outputs": [
        {
          "output_type": "display_data",
          "data": {
            "text/plain": [
              "                                   price  minimum_nights  number_of_reviews  \\\n",
              "price                           1.000000        0.040696          -0.018855   \n",
              "minimum_nights                  0.040696        1.000000          -0.023574   \n",
              "number_of_reviews              -0.018855       -0.023574           1.000000   \n",
              "reviews_per_month               0.049071       -0.083917           0.476837   \n",
              "calculated_host_listings_count  0.088839        0.213118           0.010348   \n",
              "availability_365                0.235242        0.124540           0.112710   \n",
              "number_of_reviews_ltm           0.052640       -0.076091           0.589375   \n",
              "\n",
              "                                reviews_per_month  \\\n",
              "price                                    0.049071   \n",
              "minimum_nights                          -0.083917   \n",
              "number_of_reviews                        0.476837   \n",
              "reviews_per_month                        1.000000   \n",
              "calculated_host_listings_count           0.025051   \n",
              "availability_365                         0.270043   \n",
              "number_of_reviews_ltm                    0.702598   \n",
              "\n",
              "                                calculated_host_listings_count  \\\n",
              "price                                                 0.088839   \n",
              "minimum_nights                                        0.213118   \n",
              "number_of_reviews                                     0.010348   \n",
              "reviews_per_month                                     0.025051   \n",
              "calculated_host_listings_count                        1.000000   \n",
              "availability_365                                      0.178549   \n",
              "number_of_reviews_ltm                                 0.029542   \n",
              "\n",
              "                                availability_365  number_of_reviews_ltm  \n",
              "price                                   0.235242               0.052640  \n",
              "minimum_nights                          0.124540              -0.076091  \n",
              "number_of_reviews                       0.112710               0.589375  \n",
              "reviews_per_month                       0.270043               0.702598  \n",
              "calculated_host_listings_count          0.178549               0.029542  \n",
              "availability_365                        1.000000               0.255366  \n",
              "number_of_reviews_ltm                   0.255366               1.000000  "
            ],
            "text/html": [
              "\n",
              "  <div id=\"df-11d56805-37b8-4f51-bf10-75bb800e6ae8\">\n",
              "    <div class=\"colab-df-container\">\n",
              "      <div>\n",
              "<style scoped>\n",
              "    .dataframe tbody tr th:only-of-type {\n",
              "        vertical-align: middle;\n",
              "    }\n",
              "\n",
              "    .dataframe tbody tr th {\n",
              "        vertical-align: top;\n",
              "    }\n",
              "\n",
              "    .dataframe thead th {\n",
              "        text-align: right;\n",
              "    }\n",
              "</style>\n",
              "<table border=\"1\" class=\"dataframe\">\n",
              "  <thead>\n",
              "    <tr style=\"text-align: right;\">\n",
              "      <th></th>\n",
              "      <th>price</th>\n",
              "      <th>minimum_nights</th>\n",
              "      <th>number_of_reviews</th>\n",
              "      <th>reviews_per_month</th>\n",
              "      <th>calculated_host_listings_count</th>\n",
              "      <th>availability_365</th>\n",
              "      <th>number_of_reviews_ltm</th>\n",
              "    </tr>\n",
              "  </thead>\n",
              "  <tbody>\n",
              "    <tr>\n",
              "      <th>price</th>\n",
              "      <td>1.000000</td>\n",
              "      <td>0.040696</td>\n",
              "      <td>-0.018855</td>\n",
              "      <td>0.049071</td>\n",
              "      <td>0.088839</td>\n",
              "      <td>0.235242</td>\n",
              "      <td>0.052640</td>\n",
              "    </tr>\n",
              "    <tr>\n",
              "      <th>minimum_nights</th>\n",
              "      <td>0.040696</td>\n",
              "      <td>1.000000</td>\n",
              "      <td>-0.023574</td>\n",
              "      <td>-0.083917</td>\n",
              "      <td>0.213118</td>\n",
              "      <td>0.124540</td>\n",
              "      <td>-0.076091</td>\n",
              "    </tr>\n",
              "    <tr>\n",
              "      <th>number_of_reviews</th>\n",
              "      <td>-0.018855</td>\n",
              "      <td>-0.023574</td>\n",
              "      <td>1.000000</td>\n",
              "      <td>0.476837</td>\n",
              "      <td>0.010348</td>\n",
              "      <td>0.112710</td>\n",
              "      <td>0.589375</td>\n",
              "    </tr>\n",
              "    <tr>\n",
              "      <th>reviews_per_month</th>\n",
              "      <td>0.049071</td>\n",
              "      <td>-0.083917</td>\n",
              "      <td>0.476837</td>\n",
              "      <td>1.000000</td>\n",
              "      <td>0.025051</td>\n",
              "      <td>0.270043</td>\n",
              "      <td>0.702598</td>\n",
              "    </tr>\n",
              "    <tr>\n",
              "      <th>calculated_host_listings_count</th>\n",
              "      <td>0.088839</td>\n",
              "      <td>0.213118</td>\n",
              "      <td>0.010348</td>\n",
              "      <td>0.025051</td>\n",
              "      <td>1.000000</td>\n",
              "      <td>0.178549</td>\n",
              "      <td>0.029542</td>\n",
              "    </tr>\n",
              "    <tr>\n",
              "      <th>availability_365</th>\n",
              "      <td>0.235242</td>\n",
              "      <td>0.124540</td>\n",
              "      <td>0.112710</td>\n",
              "      <td>0.270043</td>\n",
              "      <td>0.178549</td>\n",
              "      <td>1.000000</td>\n",
              "      <td>0.255366</td>\n",
              "    </tr>\n",
              "    <tr>\n",
              "      <th>number_of_reviews_ltm</th>\n",
              "      <td>0.052640</td>\n",
              "      <td>-0.076091</td>\n",
              "      <td>0.589375</td>\n",
              "      <td>0.702598</td>\n",
              "      <td>0.029542</td>\n",
              "      <td>0.255366</td>\n",
              "      <td>1.000000</td>\n",
              "    </tr>\n",
              "  </tbody>\n",
              "</table>\n",
              "</div>\n",
              "      <button class=\"colab-df-convert\" onclick=\"convertToInteractive('df-11d56805-37b8-4f51-bf10-75bb800e6ae8')\"\n",
              "              title=\"Convert this dataframe to an interactive table.\"\n",
              "              style=\"display:none;\">\n",
              "        \n",
              "  <svg xmlns=\"http://www.w3.org/2000/svg\" height=\"24px\"viewBox=\"0 0 24 24\"\n",
              "       width=\"24px\">\n",
              "    <path d=\"M0 0h24v24H0V0z\" fill=\"none\"/>\n",
              "    <path d=\"M18.56 5.44l.94 2.06.94-2.06 2.06-.94-2.06-.94-.94-2.06-.94 2.06-2.06.94zm-11 1L8.5 8.5l.94-2.06 2.06-.94-2.06-.94L8.5 2.5l-.94 2.06-2.06.94zm10 10l.94 2.06.94-2.06 2.06-.94-2.06-.94-.94-2.06-.94 2.06-2.06.94z\"/><path d=\"M17.41 7.96l-1.37-1.37c-.4-.4-.92-.59-1.43-.59-.52 0-1.04.2-1.43.59L10.3 9.45l-7.72 7.72c-.78.78-.78 2.05 0 2.83L4 21.41c.39.39.9.59 1.41.59.51 0 1.02-.2 1.41-.59l7.78-7.78 2.81-2.81c.8-.78.8-2.07 0-2.86zM5.41 20L4 18.59l7.72-7.72 1.47 1.35L5.41 20z\"/>\n",
              "  </svg>\n",
              "      </button>\n",
              "      \n",
              "  <style>\n",
              "    .colab-df-container {\n",
              "      display:flex;\n",
              "      flex-wrap:wrap;\n",
              "      gap: 12px;\n",
              "    }\n",
              "\n",
              "    .colab-df-convert {\n",
              "      background-color: #E8F0FE;\n",
              "      border: none;\n",
              "      border-radius: 50%;\n",
              "      cursor: pointer;\n",
              "      display: none;\n",
              "      fill: #1967D2;\n",
              "      height: 32px;\n",
              "      padding: 0 0 0 0;\n",
              "      width: 32px;\n",
              "    }\n",
              "\n",
              "    .colab-df-convert:hover {\n",
              "      background-color: #E2EBFA;\n",
              "      box-shadow: 0px 1px 2px rgba(60, 64, 67, 0.3), 0px 1px 3px 1px rgba(60, 64, 67, 0.15);\n",
              "      fill: #174EA6;\n",
              "    }\n",
              "\n",
              "    [theme=dark] .colab-df-convert {\n",
              "      background-color: #3B4455;\n",
              "      fill: #D2E3FC;\n",
              "    }\n",
              "\n",
              "    [theme=dark] .colab-df-convert:hover {\n",
              "      background-color: #434B5C;\n",
              "      box-shadow: 0px 1px 3px 1px rgba(0, 0, 0, 0.15);\n",
              "      filter: drop-shadow(0px 1px 2px rgba(0, 0, 0, 0.3));\n",
              "      fill: #FFFFFF;\n",
              "    }\n",
              "  </style>\n",
              "\n",
              "      <script>\n",
              "        const buttonEl =\n",
              "          document.querySelector('#df-11d56805-37b8-4f51-bf10-75bb800e6ae8 button.colab-df-convert');\n",
              "        buttonEl.style.display =\n",
              "          google.colab.kernel.accessAllowed ? 'block' : 'none';\n",
              "\n",
              "        async function convertToInteractive(key) {\n",
              "          const element = document.querySelector('#df-11d56805-37b8-4f51-bf10-75bb800e6ae8');\n",
              "          const dataTable =\n",
              "            await google.colab.kernel.invokeFunction('convertToInteractive',\n",
              "                                                     [key], {});\n",
              "          if (!dataTable) return;\n",
              "\n",
              "          const docLinkHtml = 'Like what you see? Visit the ' +\n",
              "            '<a target=\"_blank\" href=https://colab.research.google.com/notebooks/data_table.ipynb>data table notebook</a>'\n",
              "            + ' to learn more about interactive tables.';\n",
              "          element.innerHTML = '';\n",
              "          dataTable['output_type'] = 'display_data';\n",
              "          await google.colab.output.renderOutput(dataTable, element);\n",
              "          const docLink = document.createElement('div');\n",
              "          docLink.innerHTML = docLinkHtml;\n",
              "          element.appendChild(docLink);\n",
              "        }\n",
              "      </script>\n",
              "    </div>\n",
              "  </div>\n",
              "  "
            ]
          },
          "metadata": {}
        }
      ]
    },
    {
      "cell_type": "code",
      "metadata": {
        "id": "91UujDr6ueqE",
        "colab": {
          "base_uri": "https://localhost:8080/",
          "height": 411
        },
        "outputId": "826c94d3-3119-426c-ea67-574c161b827b"
      },
      "source": [
        "# plotar um heatmap a partir das correlações\n",
        "sns.heatmap(corr, cmap='coolwarm',fmt='.2f', square=True, linecolor='white', annot=True);"
      ],
      "execution_count": 20,
      "outputs": [
        {
          "output_type": "display_data",
          "data": {
            "text/plain": [
              "<Figure size 432x288 with 2 Axes>"
            ],
            "image/png": "[encoded data removed]"
          },
          "metadata": {
            "needs_background": "light"
          }
        }
      ]
    },
    {
      "cell_type": "markdown",
      "metadata": {
        "id": "7b6RMWpuHKN-"
      },
      "source": [
        "### **Q6. Qual o tipo de imóvel mais alugado no Airbnb?**"
      ]
    },
    {
      "cell_type": "code",
      "metadata": {
        "id": "ueLPNWvPHgfB",
        "colab": {
          "base_uri": "https://localhost:8080/"
        },
        "outputId": "0fd0e33b-c66e-495f-a60d-95f105bc3350"
      },
      "source": [
        "# mostrar a quantidade de cada tipo de imóvel disponível\n",
        "df_clean.room_type.value_counts()\n"
      ],
      "execution_count": 21,
      "outputs": [
        {
          "output_type": "execute_result",
          "data": {
            "text/plain": [
              "Entire home/apt    3758\n",
              "Private room       3463\n",
              "Shared room         173\n",
              "Hotel room           42\n",
              "Name: room_type, dtype: int64"
            ]
          },
          "metadata": {},
          "execution_count": 21
        }
      ]
    },
    {
      "cell_type": "code",
      "metadata": {
        "id": "EvwoO-XAHhIm",
        "colab": {
          "base_uri": "https://localhost:8080/"
        },
        "outputId": "7ebc195f-7598-4549-d122-da38b2cba965"
      },
      "source": [
        "# mostrar a porcentagem de cada tipo de imóvel disponível\n",
        "df_clean.room_type.value_counts()/df_clean.shape[0]"
      ],
      "execution_count": 22,
      "outputs": [
        {
          "output_type": "execute_result",
          "data": {
            "text/plain": [
              "Entire home/apt    0.505379\n",
              "Private room       0.465707\n",
              "Shared room        0.023265\n",
              "Hotel room         0.005648\n",
              "Name: room_type, dtype: float64"
            ]
          },
          "metadata": {},
          "execution_count": 22
        }
      ]
    },
    {
      "cell_type": "code",
      "source": [
        "# Valor máximo por bairro\n",
        "df_clean.groupby(['neighbourhood']).price.max().sort_values(ascending=False)"
      ],
      "metadata": {
        "colab": {
          "base_uri": "https://localhost:8080/"
        },
        "id": "0AMPkFAmxhqF",
        "outputId": "b42c5d90-b391-45de-834c-80c2df64a34f"
      },
      "execution_count": 23,
      "outputs": [
        {
          "output_type": "execute_result",
          "data": {
            "text/plain": [
              "neighbourhood\n",
              "Dublin City              1500\n",
              "Dn Laoghaire-Rathdown    1495\n",
              "Fingal                   1277\n",
              "South Dublin              900\n",
              "Name: price, dtype: int64"
            ]
          },
          "metadata": {},
          "execution_count": 23
        }
      ]
    },
    {
      "cell_type": "code",
      "source": [
        "#Valor mínimo por bairro\n",
        "df_clean.groupby(['neighbourhood']).price.min().sort_values()"
      ],
      "metadata": {
        "colab": {
          "base_uri": "https://localhost:8080/"
        },
        "id": "wjVBc5SO3HOu",
        "outputId": "ed8caee5-30fd-41b0-b681-e474bf212e3a"
      },
      "execution_count": 24,
      "outputs": [
        {
          "output_type": "execute_result",
          "data": {
            "text/plain": [
              "neighbourhood\n",
              "Dublin City              10\n",
              "Dn Laoghaire-Rathdown    15\n",
              "Fingal                   15\n",
              "South Dublin             15\n",
              "Name: price, dtype: int64"
            ]
          },
          "metadata": {},
          "execution_count": 24
        }
      ]
    },
    {
      "cell_type": "markdown",
      "metadata": {
        "id": "MFa5NbnLJMcd"
      },
      "source": [
        "### **Q7. Qual a localidade mais cara do dataset?**\n",
        "\n"
      ]
    },
    {
      "cell_type": "code",
      "metadata": {
        "id": "MD_xa143JZpi",
        "colab": {
          "base_uri": "https://localhost:8080/"
        },
        "outputId": "32ef13fd-33bd-4de4-8a19-aba3201f1901"
      },
      "source": [
        "# ver preços por bairros, na média\n",
        "df_clean.groupby(['neighbourhood']).price.mean().sort_values(ascending=False)"
      ],
      "execution_count": 25,
      "outputs": [
        {
          "output_type": "execute_result",
          "data": {
            "text/plain": [
              "neighbourhood\n",
              "Dublin City              155.715596\n",
              "Dn Laoghaire-Rathdown    148.032115\n",
              "Fingal                   132.579652\n",
              "South Dublin             105.708333\n",
              "Name: price, dtype: float64"
            ]
          },
          "metadata": {},
          "execution_count": 25
        }
      ]
    },
    {
      "cell_type": "code",
      "metadata": {
        "id": "UxVJqJ_3W59I",
        "colab": {
          "base_uri": "https://localhost:8080/",
          "height": 361
        },
        "outputId": "6bcd8591-7fbf-4c83-eb2e-bda6918b694b"
      },
      "source": [
        "# plotar os imóveis pela latitude-longitude\n",
        "df_clean.plot(kind=\"scatter\", x='longitude', y='latitude', alpha=0.4, c=df_clean['price'], s=8, cmap=plt.get_cmap('jet'), figsize=(10,6));"
      ],
      "execution_count": 26,
      "outputs": [
        {
          "output_type": "display_data",
          "data": {
            "text/plain": [
              "<Figure size 720x432 with 2 Axes>"
            ],
            "image/png": "[encoded data removed]"
          },
          "metadata": {
            "needs_background": "light"
          }
        }
      ]
    },
    {
      "cell_type": "code",
      "source": [
        "# Quantidade de propriedade por Região\n",
        "df_clean.neighbourhood.value_counts(ascending=False)"
      ],
      "metadata": {
        "colab": {
          "base_uri": "https://localhost:8080/"
        },
        "id": "vEU_xN1Tc9hi",
        "outputId": "d57ca440-af02-4baf-8d78-277bdfcf3c55"
      },
      "execution_count": 42,
      "outputs": [
        {
          "output_type": "execute_result",
          "data": {
            "text/plain": [
              "Dublin City              5450\n",
              "Dn Laoghaire-Rathdown     903\n",
              "Fingal                    747\n",
              "South Dublin              336\n",
              "Name: neighbourhood, dtype: int64"
            ]
          },
          "metadata": {},
          "execution_count": 42
        }
      ]
    },
    {
      "cell_type": "markdown",
      "metadata": {
        "id": "vTneAMRUYvr1"
      },
      "source": [
        "### **Q8. Qual é a média do mínimo de noites para aluguel (minimum_nights)?**"
      ]
    },
    {
      "cell_type": "code",
      "metadata": {
        "id": "_VzNhrEgY82N",
        "colab": {
          "base_uri": "https://localhost:8080/"
        },
        "outputId": "00ab1641-bc31-4ac8-eaab-2a2e6295bf67"
      },
      "source": [
        "# ver a média da coluna `minimum_nights``\n",
        "df.minimum_nights.mean()"
      ],
      "execution_count": 27,
      "outputs": [
        {
          "output_type": "execute_result",
          "data": {
            "text/plain": [
              "6.253899021940259"
            ]
          },
          "metadata": {},
          "execution_count": 27
        }
      ]
    },
    {
      "cell_type": "markdown",
      "metadata": {
        "id": "GkvAg623RjoR"
      },
      "source": [
        "## Conclusões\n"
      ]
    },
    {
      "cell_type": "markdown",
      "metadata": {
        "id": "rbZ3Hsy9Ypw8"
      },
      "source": [
        "#### Analisamos 7556 dados de entrada distribuídos em 18 variáveis. Nessa análise pudemos chegar às seguintes conclusões:\n",
        "---\n",
        "* Observamos que existem valores ausentes no dataset. Nas variáveis 'license' e 'neighbourhood_group' temos 100% dos **valores ausentes**, e aproximadamente 17,94% nas variáveis 'reviews_per_month' e 'last_reviews'. Enquanto isso, as demais variáveis possuem 100% dos **valores presentes**.\n",
        "*  Existem outliers nas variáveis 'price' e 'minimum_nights'. Na variável 'price', observamos que o valor máximo é de 99149, muito distante da **média** calculada de **182,33**. Este outlier se refere a um quarto privado localizado na região de Fingal.\n",
        "*   **50,5% dos anúncios são de casas ou apartamentos inteiros**. 46,5% de quartos privados e um pouco mais de 2% de quartos compartilhados. O número de quartos de hotel não chega nem a 1% dos valores observados. \n",
        "* Observamos ainda que a região de **Dublin City é onde se concentra a grande maioria das propriedades.** A quantidade de propriedades nela é quase 3 vezes o valor da soma das demais localidades.\n",
        "* Após retirarmos os outliers, **constatamos que Dublin City possui a média do aluguel de 155,71**, a maior dentre as regiões. Curiosamente, também é a região onde possui o menor valor de aluguel: 10.\n",
        "\n",
        "\n",
        "\n"
      ]
    }
  ]
}